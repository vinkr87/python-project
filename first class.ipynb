{
 "cells": [
  {
   "cell_type": "code",
   "execution_count": 1,
   "id": "47321020",
   "metadata": {},
   "outputs": [
    {
     "name": "stdout",
     "output_type": "stream",
     "text": [
      "1\n"
     ]
    }
   ],
   "source": [
    "#PYTHON\n",
    "#GUIDO VAN ROSSUM\n",
    "#variables, values\n",
    "a=1\n",
    "print(a)\n",
    "#for run this press shift+enter"
   ]
  },
  {
   "cell_type": "code",
   "execution_count": 2,
   "id": "dbb29462",
   "metadata": {},
   "outputs": [
    {
     "name": "stdout",
     "output_type": "stream",
     "text": [
      "1.0\n"
     ]
    }
   ],
   "source": [
    "b=1.0\n",
    "print(b)"
   ]
  },
  {
   "cell_type": "code",
   "execution_count": 4,
   "id": "5417fb5c",
   "metadata": {},
   "outputs": [
    {
     "name": "stdout",
     "output_type": "stream",
     "text": [
      "<class 'int'>\n"
     ]
    }
   ],
   "source": [
    "#DATA TYPESNIN PYTHON\n",
    "# INTEGER,FLOAT,COMPLEX,BOOL,STRINGS\n",
    "a=1\n",
    "print(type(a))"
   ]
  },
  {
   "cell_type": "code",
   "execution_count": 5,
   "id": "ff3888fe",
   "metadata": {},
   "outputs": [
    {
     "name": "stdout",
     "output_type": "stream",
     "text": [
      "<class 'float'>\n"
     ]
    }
   ],
   "source": [
    "b=1.0\n",
    "print(type(b))"
   ]
  },
  {
   "cell_type": "code",
   "execution_count": 6,
   "id": "9b2ed4b7",
   "metadata": {},
   "outputs": [
    {
     "name": "stdout",
     "output_type": "stream",
     "text": [
      "<class 'complex'>\n"
     ]
    }
   ],
   "source": [
    "c=10j\n",
    "print(type(c))"
   ]
  },
  {
   "cell_type": "code",
   "execution_count": 7,
   "id": "e2bd394a",
   "metadata": {},
   "outputs": [
    {
     "name": "stdout",
     "output_type": "stream",
     "text": [
      "<class 'str'>\n"
     ]
    }
   ],
   "source": [
    "d=\"python\"#words,sentence\n",
    "print(type(d))"
   ]
  },
  {
   "cell_type": "code",
   "execution_count": 9,
   "id": "9337954c",
   "metadata": {},
   "outputs": [
    {
     "name": "stdout",
     "output_type": "stream",
     "text": [
      "<class 'bool'>\n",
      "<class 'bool'>\n"
     ]
    }
   ],
   "source": [
    "e=True\n",
    "print(type(e))\n",
    "f=False\n",
    "print(type(f))"
   ]
  },
  {
   "cell_type": "code",
   "execution_count": 10,
   "id": "80796731",
   "metadata": {},
   "outputs": [
    {
     "name": "stdout",
     "output_type": "stream",
     "text": [
      "False\n",
      "True\n"
     ]
    }
   ],
   "source": [
    "a=1#assign\n",
    "b=2\n",
    "c=1\n",
    "print(a==b)# compare\n",
    "print(a==c)"
   ]
  },
  {
   "cell_type": "code",
   "execution_count": 47,
   "id": "65c3cd97",
   "metadata": {},
   "outputs": [
    {
     "name": "stdout",
     "output_type": "stream",
     "text": [
      "yes\n"
     ]
    }
   ],
   "source": [
    "#conditional statements(if,elif,else)\n",
    "a=\"python is a language\"\n",
    "if \"p\"in a:\n",
    "    print(\"yes\")\n",
    "elif \"E\" in a:\n",
    "    print(\"it is not there\")\n",
    "else:\n",
    "    print(\"no\")"
   ]
  },
  {
   "cell_type": "markdown",
   "id": "b38c8352",
   "metadata": {},
   "source": [
    "# second day"
   ]
  },
  {
   "cell_type": "code",
   "execution_count": null,
   "id": "6017e6a6",
   "metadata": {},
   "outputs": [
    {
     "name": "stdout",
     "output_type": "stream",
     "text": [
      "python programming@\n",
      "python@programming@in@tgc\n"
     ]
    }
   ],
   "source": [
    "#sep,end\n",
    "#sep->Seperator\n",
    "#end->end\n",
    "#\"\"\n",
    "a= \"python programming\"\n",
    "print(a,end=\"@\\n\")#\\n-> next line\n",
    "print(\"python\",\"programming\",\"in\",\"tgc\",sep=\"@\")"
   ]
  },
  {
   "cell_type": "markdown",
   "id": "06f06172-bb33-484b-a914-bb9ea0c7eac9",
   "metadata": {},
   "source": [
    "# python rules:\n",
    "***1.) starting 0***\n",
    "\n",
    "***2.) not count last number***\n",
    "\n"
   ]
  },
  {
   "cell_type": "code",
   "execution_count": 4,
   "id": "4e0ee7e1",
   "metadata": {},
   "outputs": [
    {
     "name": "stdout",
     "output_type": "stream",
     "text": [
      "10 * 1 = 10\n",
      "10 * 2 = 20\n",
      "10 * 3 = 30\n",
      "10 * 4 = 40\n",
      "10 * 5 = 50\n",
      "10 * 6 = 60\n",
      "10 * 7 = 70\n",
      "10 * 8 = 80\n",
      "10 * 9 = 90\n",
      "10 * 10 = 100\n"
     ]
    }
   ],
   "source": [
    "#table of 10\n",
    "#10*1=10\n",
    "a=10#assignment operator\n",
    "# b=10\n",
    "#print(a==10)#compare\n",
    "for i in range(1,11):#starting from 1 and ending with 10\n",
    "    print(a,\"*\",i,\"=\",a*i)"
   ]
  },
  {
   "cell_type": "code",
   "execution_count": 5,
   "id": "7e326bab-2d92-49c4-897a-1cda3c4d76af",
   "metadata": {},
   "outputs": [
    {
     "name": "stdout",
     "output_type": "stream",
     "text": [
      "28.9 * 1 = 28.9\n",
      "28.9 * 2 = 57.8\n",
      "28.9 * 3 = 86.69999999999999\n",
      "28.9 * 4 = 115.6\n",
      "28.9 * 5 = 144.5\n",
      "28.9 * 6 = 173.39999999999998\n",
      "28.9 * 7 = 202.29999999999998\n",
      "28.9 * 8 = 231.2\n",
      "28.9 * 9 = 260.09999999999997\n",
      "28.9 * 10 = 289.0\n"
     ]
    }
   ],
   "source": [
    "a=28.9#assignment operator\n",
    "# b=10\n",
    "#print(a==10)#compare\n",
    "for i in range(1,11):#starting from 1 and ending with 10\n",
    "    print(a,\"*\",i,\"=\",a*i)"
   ]
  },
  {
   "cell_type": "code",
   "execution_count": 12,
   "id": "6ce52df5-75c9-4c8a-8218-e4f33630a2d9",
   "metadata": {},
   "outputs": [
    {
     "name": "stdout",
     "output_type": "stream",
     "text": [
      "3 * 1 = 3\n",
      "3 * 2 = 9\n",
      "3 * 3 = 27\n",
      "3 * 4 = 81\n",
      "3 * 5 = 243\n",
      "3 * 6 = 729\n",
      "3 * 7 = 2187\n",
      "3 * 8 = 6561\n",
      "3 * 9 = 19683\n",
      "3 * 10 = 59049\n"
     ]
    }
   ],
   "source": [
    "#a^n\n",
    "a=3#assignment operator\n",
    "# b=10\n",
    "#print(a==10)#compare\n",
    "for i in range(1,11):#starting from 1 and ending with 10\n",
    "    print(a,\"*\",i,\"=\",a**i)"
   ]
  },
  {
   "cell_type": "code",
   "execution_count": 15,
   "id": "c2e5aad0",
   "metadata": {},
   "outputs": [
    {
     "name": "stdout",
     "output_type": "stream",
     "text": [
      "8756 * 765 = 6698340\n"
     ]
    }
   ],
   "source": [
    "a=8756\n",
    "b=765\n",
    "print(a,\"*\",b,\"=\",a*b)"
   ]
  },
  {
   "cell_type": "code",
   "execution_count": 16,
   "id": "136aa21e-333f-425b-b6aa-478d7424fa0d",
   "metadata": {},
   "outputs": [
    {
     "name": "stdout",
     "output_type": "stream",
     "text": [
      "729 / 9 = 81.0\n"
     ]
    }
   ],
   "source": [
    "a=729\n",
    "b=9\n",
    "print(a,\"/\",b,\"=\",a/b)"
   ]
  },
  {
   "cell_type": "markdown",
   "id": "872d3c8c",
   "metadata": {},
   "source": [
    "# Homework: 04/07/2023 "
   ]
  },
  {
   "cell_type": "code",
   "execution_count": 1,
   "id": "bf1868ae",
   "metadata": {},
   "outputs": [
    {
     "name": "stdout",
     "output_type": "stream",
     "text": [
      "30\n"
     ]
    }
   ],
   "source": [
    "#1.Create a variable with name python and value30\n",
    "\n",
    "#ans.\n",
    " \n",
    "python=30\n",
    "print(python)"
   ]
  },
  {
   "cell_type": "code",
   "execution_count": 2,
   "id": "ddc45a56",
   "metadata": {},
   "outputs": [
    {
     "name": "stdout",
     "output_type": "stream",
     "text": [
      "<class 'str'>\n"
     ]
    }
   ],
   "source": [
    "#2. Create a variable to store a string value 'programming languages'\n",
    "\n",
    "a=\"programming languages\"\n",
    "print(type(a))"
   ]
  },
  {
   "cell_type": "code",
   "execution_count": 35,
   "id": "d5171c90",
   "metadata": {},
   "outputs": [
    {
     "name": "stdout",
     "output_type": "stream",
     "text": [
      "<class 'int'>\n"
     ]
    }
   ],
   "source": [
    "#3. Create a variable get the value of which datatype its of a particular data/value\n",
    "\n",
    "#ans.\n",
    "\n",
    "a=1\n",
    "b=2.3\n",
    "print(type(a))\n"
   ]
  },
  {
   "cell_type": "code",
   "execution_count": 2,
   "id": "14abf1db",
   "metadata": {},
   "outputs": [
    {
     "name": "stdout",
     "output_type": "stream",
     "text": [
      "hello:hello whats your name?\n",
      "hello I'm Vinky.\n",
      "your age:i'm 22 and your's?\n",
      "im 22.\n",
      "your address:I'm from india and you!\n",
      "im from delhi\n"
     ]
    }
   ],
   "source": [
    "#4. Create a program to get the name, age , and place of a person using input function\n",
    "\n",
    "#ans.\n",
    "\n",
    "name= input(\"hello:\")\n",
    "print(\"hello I'm Vinky.\")\n",
    "age= input(\"your age:\")\n",
    "print(\"im 22.\")\n",
    "adress= input(\"your address:\")\n",
    "print(\"im from delhi\")"
   ]
  },
  {
   "cell_type": "code",
   "execution_count": 27,
   "id": "f15c2e87",
   "metadata": {},
   "outputs": [
    {
     "name": "stdout",
     "output_type": "stream",
     "text": [
      "Hii, Good Morning!! \n",
      " Have a Good Day!!\n"
     ]
    }
   ],
   "source": [
    "#5. Create a python program to print the 2 variable value in one single print function but should print in 2 lines\n",
    "\n",
    "#ans.\n",
    "\n",
    "x='Hii, Good Morning!!'\n",
    "y='Have a Good Day!!'\n",
    "print(x,'\\n',y)\n",
    "\n"
   ]
  },
  {
   "cell_type": "code",
   "execution_count": 28,
   "id": "c679d006",
   "metadata": {},
   "outputs": [
    {
     "name": "stdout",
     "output_type": "stream",
     "text": [
      "your date of birth!!2-5-2001\n",
      "2 may 2001\n"
     ]
    }
   ],
   "source": [
    "#6. Create a python program to the date of birth of a person and print it in the format as date-month-year.\n",
    "\n",
    "#ans.\n",
    "dob=input(\"your date of birth!!\")\n",
    "print(\"2 may 2001\")"
   ]
  },
  {
   "cell_type": "code",
   "execution_count": 29,
   "id": "a8f830c3",
   "metadata": {},
   "outputs": [
    {
     "name": "stdout",
     "output_type": "stream",
     "text": [
      "1 \n",
      " 2\n",
      "1.5 \n",
      " 3.4\n"
     ]
    }
   ],
   "source": [
    "#7. create two integer numbers, float numbers and print them.\n",
    "\n",
    "#ans.\n",
    "\n",
    "a=1\n",
    "b=2\n",
    "print(a,\"\\n\",b)\n",
    "c=1.5\n",
    "d=3.4\n",
    "print(c,\"\\n\",d)"
   ]
  },
  {
   "cell_type": "code",
   "execution_count": 34,
   "id": "2834e27d",
   "metadata": {},
   "outputs": [
    {
     "name": "stdout",
     "output_type": "stream",
     "text": [
      "1 + 2 + 1.5 + 3.4 = 7.9\n",
      "1 - 2 - 1.5 - 3.4 = -5.9\n",
      "1 * 2 * 1.5 * 3.4 = 10.2\n",
      "1 / 2 = 0.5\n",
      "1.5 / 3.4 = 0.4411764705882353\n"
     ]
    }
   ],
   "source": [
    "#.Create a python program to calculate add,sub,mul,divison,power(**)- try with the above numbers.\n",
    "\n",
    "#ans.\n",
    "a=1\n",
    "b=2\n",
    "c=1.5\n",
    "d=3.4\n",
    "print(a,\"+\",b,\"+\",c,\"+\",d,\"=\",a+b+c+d)\n",
    "print(a,\"-\",b,\"-\",c,\"-\",d,\"=\",a-b-c-d)\n",
    "print(a,\"*\",b,\"*\",c,\"*\",d,\"=\",a*b*c*d)\n",
    "print(a,\"/\",b,\"=\",a/b)\n",
    "print(c,\"/\",d,\"=\",c/d)"
   ]
  },
  {
   "cell_type": "code",
   "execution_count": 35,
   "id": "57380c5c",
   "metadata": {},
   "outputs": [
    {
     "name": "stdout",
     "output_type": "stream",
     "text": [
      "<class 'str'>\n",
      "<class 'float'>\n",
      "<class 'str'>\n",
      "<class 'bool'>\n"
     ]
    }
   ],
   "source": [
    "#use type() function & check the types of given data:\n",
    "#\"python\"\n",
    "#8.94\n",
    "#\"True\"\n",
    "#True\n",
    "\n",
    "#ans.\n",
    "\n",
    "a=\"python\"\n",
    "print(type(a))\n",
    "b=8.94\n",
    "print(type(b))\n",
    "c=\"True\"\n",
    "print(type(c))\n",
    "d=True\n",
    "print(type(d))\n"
   ]
  },
  {
   "cell_type": "markdown",
   "id": "df8bac3c",
   "metadata": {},
   "source": [
    "# completed"
   ]
  },
  {
   "cell_type": "code",
   "execution_count": 1,
   "id": "f48000a3",
   "metadata": {},
   "outputs": [
    {
     "name": "stdout",
     "output_type": "stream",
     "text": [
      "enter your namevinky\n",
      "enter your age22\n",
      "enter your placeworld\n",
      "my name is vinky my age is 22 my place is world\n"
     ]
    }
   ],
   "source": [
    "#4. Create a program to get the name, age , and place of a person using input function\n",
    "\n",
    "#ans\n",
    "\n",
    "a=input(\"enter your name\")\n",
    "b=input(\"enter your age\")\n",
    "c=input(\"enter your place\")\n",
    "print(\"my name is\",a,\"my age is\",b,\"my place is\",c)"
   ]
  },
  {
   "cell_type": "code",
   "execution_count": null,
   "id": "c7e98ace",
   "metadata": {},
   "outputs": [],
   "source": []
  },
  {
   "cell_type": "code",
   "execution_count": null,
   "id": "9d00a831",
   "metadata": {},
   "outputs": [],
   "source": []
  },
  {
   "cell_type": "code",
   "execution_count": null,
   "id": "161f0fd4",
   "metadata": {},
   "outputs": [],
   "source": []
  }
 ],
 "metadata": {
  "kernelspec": {
   "display_name": "Python 3 (ipykernel)",
   "language": "python",
   "name": "python3"
  },
  "language_info": {
   "codemirror_mode": {
    "name": "ipython",
    "version": 3
   },
   "file_extension": ".py",
   "mimetype": "text/x-python",
   "name": "python",
   "nbconvert_exporter": "python",
   "pygments_lexer": "ipython3",
   "version": "3.10.9"
  }
 },
 "nbformat": 4,
 "nbformat_minor": 5
}
